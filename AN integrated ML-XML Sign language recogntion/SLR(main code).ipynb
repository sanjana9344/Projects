{
  "cells": [
    {
      "cell_type": "code",
      "execution_count": null,
      "metadata": {
        "id": "RMcnCWXbb31m"
      },
      "outputs": [],
      "source": [
        "import pandas as pd\n",
        "import numpy as np"
      ]
    },
    {
      "cell_type": "markdown",
      "metadata": {
        "id": "LFy8_WXjdNZi"
      },
      "source": [
        "LOAD THE DATASET"
      ]
    },
    {
      "cell_type": "code",
      "execution_count": null,
      "metadata": {
        "id": "N3E_IMUtdTZJ"
      },
      "outputs": [],
      "source": [
        "ls"
      ]
    },
    {
      "cell_type": "code",
      "execution_count": null,
      "metadata": {
        "id": "d2VuLZRddiL1"
      },
      "outputs": [],
      "source": [
        "from google.colab import drive\n",
        "drive.mount('/content/drive')"
      ]
    },
    {
      "cell_type": "code",
      "execution_count": null,
      "metadata": {
        "id": "dH69gbw0eAvM"
      },
      "outputs": [],
      "source": [
        "pwd"
      ]
    },
    {
      "cell_type": "code",
      "execution_count": null,
      "metadata": {
        "colab": {
          "base_uri": "https://localhost:8080/"
        },
        "id": "gChzj21GfL9u",
        "outputId": "c51c10de-d6d7-4f6a-ae12-3166f5a7a305"
      },
      "outputs": [
        {
          "output_type": "stream",
          "name": "stdout",
          "text": [
            "unzip:  cannot find or open SLR DATASET.zip, SLR DATASET.zip.zip or SLR DATASET.zip.ZIP.\n"
          ]
        }
      ],
      "source": [
        "!unzip 'SLR DATASET.zip'"
      ]
    },
    {
      "cell_type": "markdown",
      "metadata": {
        "id": "9sSgZzfLLoBK"
      },
      "source": [
        "Data preprossing"
      ]
    },
    {
      "cell_type": "code",
      "execution_count": null,
      "metadata": {
        "id": "2OtZUTUOfX0q"
      },
      "outputs": [],
      "source": [
        "from tensorflow.keras.preprocessing.image import ImageDataGenerator"
      ]
    },
    {
      "cell_type": "code",
      "execution_count": null,
      "metadata": {
        "id": "16ET4FK-Fcw5"
      },
      "outputs": [],
      "source": [
        "from sklearn.model_selection import train_test_split"
      ]
    },
    {
      "cell_type": "code",
      "execution_count": null,
      "metadata": {
        "id": "88prYlq2ferA"
      },
      "outputs": [],
      "source": [
        "Train_data=ImageDataGenerator(rescale=1./255,horizontal_flip= True,vertical_flip= True,zoom_range=0.2)"
      ]
    },
    {
      "cell_type": "code",
      "execution_count": null,
      "metadata": {
        "id": "iHHHArDxfi6b"
      },
      "outputs": [],
      "source": [
        "Test_data=ImageDataGenerator(rescale=1./255)"
      ]
    },
    {
      "cell_type": "code",
      "execution_count": null,
      "metadata": {
        "colab": {
          "base_uri": "https://localhost:8080/"
        },
        "id": "7JC8i7LSPd4B",
        "outputId": "117cb769-2457-4949-b4e3-0e419bf643e7"
      },
      "outputs": [
        {
          "output_type": "stream",
          "name": "stdout",
          "text": [
            "Found 12976 images belonging to 36 classes.\n"
          ]
        }
      ],
      "source": [
        "x_train=Train_data.flow_from_directory(r\"/content/drive/MyDrive/slrdataset/isl_data_grey_split/train\",target_size=(100,100),\n",
        "                                       class_mode=\"categorical\",batch_size=300, color_mode='grayscale')"
      ]
    },
    {
      "cell_type": "code",
      "execution_count": null,
      "metadata": {
        "colab": {
          "base_uri": "https://localhost:8080/"
        },
        "id": "QOJNjilxPtuG",
        "outputId": "44bd6440-223a-4631-821c-d2fbd6d62bd5"
      },
      "outputs": [
        {
          "output_type": "stream",
          "name": "stdout",
          "text": [
            "Found 4872 images belonging to 36 classes.\n"
          ]
        }
      ],
      "source": [
        "x_test=Test_data.flow_from_directory(r\"/content/drive/MyDrive/slrdataset/isl_data_grey_split/test\",target_size=(100,100),\n",
        "                                       class_mode=\"categorical\",batch_size=300,color_mode='grayscale')"
      ]
    },
    {
      "cell_type": "code",
      "execution_count": null,
      "metadata": {
        "colab": {
          "base_uri": "https://localhost:8080/"
        },
        "id": "NRLQ9LrGPyPH",
        "outputId": "73c9e0c0-5342-47b3-9f9b-ab5f203c4903"
      },
      "outputs": [
        {
          "output_type": "execute_result",
          "data": {
            "text/plain": [
              "44"
            ]
          },
          "metadata": {},
          "execution_count": 12
        }
      ],
      "source": [
        "len(x_train)"
      ]
    },
    {
      "cell_type": "code",
      "execution_count": null,
      "metadata": {
        "colab": {
          "base_uri": "https://localhost:8080/"
        },
        "id": "yJhqmy54P-7f",
        "outputId": "2095d288-a0be-413e-ca1d-87b213d9506a"
      },
      "outputs": [
        {
          "output_type": "execute_result",
          "data": {
            "text/plain": [
              "17"
            ]
          },
          "metadata": {},
          "execution_count": 13
        }
      ],
      "source": [
        "len(x_test)"
      ]
    },
    {
      "cell_type": "code",
      "execution_count": null,
      "metadata": {
        "colab": {
          "base_uri": "https://localhost:8080/"
        },
        "id": "rHRS5MGbP9J8",
        "outputId": "2c403a3c-f621-4cae-e75a-42457469c93e"
      },
      "outputs": [
        {
          "output_type": "execute_result",
          "data": {
            "text/plain": [
              "{'0': 0,\n",
              " '1': 1,\n",
              " '2': 2,\n",
              " '3': 3,\n",
              " '4': 4,\n",
              " '5': 5,\n",
              " '6': 6,\n",
              " '7': 7,\n",
              " '8': 8,\n",
              " '9': 9,\n",
              " 'a': 10,\n",
              " 'b': 11,\n",
              " 'c': 12,\n",
              " 'd': 13,\n",
              " 'e': 14,\n",
              " 'f': 15,\n",
              " 'g': 16,\n",
              " 'h': 17,\n",
              " 'i': 18,\n",
              " 'j': 19,\n",
              " 'k': 20,\n",
              " 'l': 21,\n",
              " 'm': 22,\n",
              " 'n': 23,\n",
              " 'o': 24,\n",
              " 'p': 25,\n",
              " 'q': 26,\n",
              " 'r': 27,\n",
              " 's': 28,\n",
              " 't': 29,\n",
              " 'u': 30,\n",
              " 'v': 31,\n",
              " 'w': 32,\n",
              " 'x': 33,\n",
              " 'y': 34,\n",
              " 'z': 35}"
            ]
          },
          "metadata": {},
          "execution_count": 14
        }
      ],
      "source": [
        "x_train.class_indices"
      ]
    },
    {
      "cell_type": "code",
      "execution_count": null,
      "metadata": {
        "colab": {
          "base_uri": "https://localhost:8080/"
        },
        "id": "3vMHUkzbQFF-",
        "outputId": "e029fcee-271f-4a8a-ad35-125461f8918f"
      },
      "outputs": [
        {
          "output_type": "execute_result",
          "data": {
            "text/plain": [
              "{'0': 0,\n",
              " '1': 1,\n",
              " '2': 2,\n",
              " '3': 3,\n",
              " '4': 4,\n",
              " '5': 5,\n",
              " '6': 6,\n",
              " '7': 7,\n",
              " '8': 8,\n",
              " '9': 9,\n",
              " 'a': 10,\n",
              " 'b': 11,\n",
              " 'c': 12,\n",
              " 'd': 13,\n",
              " 'e': 14,\n",
              " 'f': 15,\n",
              " 'g': 16,\n",
              " 'h': 17,\n",
              " 'i': 18,\n",
              " 'j': 19,\n",
              " 'k': 20,\n",
              " 'l': 21,\n",
              " 'm': 22,\n",
              " 'n': 23,\n",
              " 'o': 24,\n",
              " 'p': 25,\n",
              " 'q': 26,\n",
              " 'r': 27,\n",
              " 's': 28,\n",
              " 't': 29,\n",
              " 'u': 30,\n",
              " 'v': 31,\n",
              " 'w': 32,\n",
              " 'x': 33,\n",
              " 'y': 34,\n",
              " 'z': 35}"
            ]
          },
          "metadata": {},
          "execution_count": 15
        }
      ],
      "source": [
        "x_test.class_indices"
      ]
    },
    {
      "cell_type": "code",
      "execution_count": null,
      "metadata": {
        "id": "ERewYZIgQI4x"
      },
      "outputs": [],
      "source": [
        "train_datagen=ImageDataGenerator(rescale=1./255,zoom_range=0.2,horizontal_flip=True,vertical_flip=False)"
      ]
    },
    {
      "cell_type": "code",
      "execution_count": null,
      "metadata": {
        "id": "FHDM2hv8QRFi"
      },
      "outputs": [],
      "source": [
        "test_datagen=ImageDataGenerator(rescale=1./255)"
      ]
    },
    {
      "cell_type": "markdown",
      "metadata": {
        "id": "D6-smkT6QTC4"
      },
      "source": [
        "Model Building"
      ]
    },
    {
      "cell_type": "code",
      "execution_count": null,
      "metadata": {
        "id": "p_l4Bn8CQZoB"
      },
      "outputs": [],
      "source": [
        "from tensorflow.keras.models import Sequential\n",
        "from tensorflow.keras.layers import Dense\n",
        "from tensorflow.keras.layers import Convolution2D\n",
        "from tensorflow.keras.layers import MaxPooling2D\n",
        "from tensorflow.keras.layers import Flatten\n",
        "from tensorflow.keras.optimizers.legacy import Adam"
      ]
    },
    {
      "cell_type": "code",
      "execution_count": null,
      "metadata": {
        "id": "3_yTy7vTQekb"
      },
      "outputs": [],
      "source": [
        "#Creating the model\n",
        "model=Sequential()"
      ]
    },
    {
      "cell_type": "code",
      "execution_count": null,
      "metadata": {
        "colab": {
          "base_uri": "https://localhost:8080/"
        },
        "id": "dpoJ0J4Vlpr_",
        "outputId": "925e77cb-40bf-4b19-eedc-db4ffde344af"
      },
      "outputs": [
        {
          "output_type": "stream",
          "name": "stdout",
          "text": [
            "Model: \"sequential_1\"\n",
            "_________________________________________________________________\n",
            " Layer (type)                Output Shape              Param #   \n",
            "=================================================================\n",
            " conv2d (Conv2D)             (None, 98, 98, 32)        320       \n",
            "                                                                 \n",
            " max_pooling2d (MaxPooling2  (None, 49, 49, 32)        0         \n",
            " D)                                                              \n",
            "                                                                 \n",
            " flatten (Flatten)           (None, 76832)             0         \n",
            "                                                                 \n",
            "=================================================================\n",
            "Total params: 320 (1.25 KB)\n",
            "Trainable params: 320 (1.25 KB)\n",
            "Non-trainable params: 0 (0.00 Byte)\n",
            "_________________________________________________________________\n"
          ]
        }
      ],
      "source": [
        "#Adding the layers\n",
        "model=Sequential()\n",
        "model.add(Convolution2D(32,(3,3),input_shape=(100,100,1),activation='relu'))\n",
        "model.add(MaxPooling2D(pool_size=(2,2)))\n",
        "model.add(Flatten(input_shape=(32,32,3)))\n",
        "model.summary()"
      ]
    },
    {
      "cell_type": "code",
      "execution_count": null,
      "metadata": {
        "id": "z6_P2PHAQrjj"
      },
      "outputs": [],
      "source": [
        "#adding hidden layers\n",
        "model.add(Dense(512, activation='relu'))\n",
        "model.add(Dense(36, activation='relu'))"
      ]
    },
    {
      "cell_type": "code",
      "execution_count": null,
      "metadata": {
        "id": "10tAePeXQtSf"
      },
      "outputs": [],
      "source": [
        "#Adding the output layer\n",
        "model.add(Dense(36, activation='softmax'))"
      ]
    },
    {
      "cell_type": "code",
      "execution_count": null,
      "metadata": {
        "id": "Z0dUxIkmQwzW"
      },
      "outputs": [],
      "source": [
        "model.compile(optimizer='Adam', loss='categorical_crossentropy', metrics=['categorical_accuracy'])"
      ]
    },
    {
      "cell_type": "code",
      "execution_count": null,
      "metadata": {
        "colab": {
          "base_uri": "https://localhost:8080/"
        },
        "id": "0khVm9AJ0Xfy",
        "outputId": "1d958b4c-f27f-4aaf-c85a-4d0dc8205f6a"
      },
      "outputs": [
        {
          "output_type": "execute_result",
          "data": {
            "text/plain": [
              "44"
            ]
          },
          "metadata": {},
          "execution_count": 24
        }
      ],
      "source": [
        "len(x_train)"
      ]
    },
    {
      "cell_type": "code",
      "execution_count": null,
      "metadata": {
        "colab": {
          "base_uri": "https://localhost:8080/"
        },
        "id": "yGLDLwolQ2Em",
        "outputId": "f23324ef-5701-4d0a-9c2d-968dda6bd460"
      },
      "outputs": [
        {
          "output_type": "execute_result",
          "data": {
            "text/plain": [
              "17"
            ]
          },
          "metadata": {},
          "execution_count": 25
        }
      ],
      "source": [
        "len(x_test)"
      ]
    },
    {
      "cell_type": "code",
      "execution_count": null,
      "metadata": {
        "id": "IKvASQpweLdC"
      },
      "outputs": [],
      "source": [
        "### model.fit_generator(x_train,steps_per_epoch=len(x_train),validation_data=x_test,validation_steps=len(x_test),epochs=10)\n",
        "# Fitting the Model Generator\n",
        "model.fit(x_train, steps_per_epoch=len(x_train),epochs=10, validation_data=x_test, validation_steps=len(x_test) )\n",
        "#model.fit(x_train, epochs=100, verbose=1)"
      ]
    },
    {
      "cell_type": "code",
      "execution_count": null,
      "metadata": {
        "id": "tp_e_rBB1zO_"
      },
      "outputs": [],
      "source": [
        "model.save('/content/drive/MyDrive/slrdataset/slr.h5')"
      ]
    },
    {
      "cell_type": "markdown",
      "metadata": {
        "id": "El4nrnm42EcN"
      },
      "source": [
        "Test the model"
      ]
    },
    {
      "cell_type": "code",
      "execution_count": null,
      "metadata": {
        "id": "lIWW1sdu2Hnq"
      },
      "outputs": [],
      "source": [
        "from tensorflow.keras.models import load_model\n",
        "from tensorflow.keras.preprocessing import image\n",
        "import matplotlib.pyplot as plt"
      ]
    },
    {
      "cell_type": "code",
      "execution_count": null,
      "metadata": {
        "id": "L3xUsWyQ2MSB"
      },
      "outputs": [],
      "source": [
        "Model = load_model('/content/drive/MyDrive/slrdataset/slr.h5')"
      ]
    },
    {
      "cell_type": "code",
      "execution_count": null,
      "metadata": {
        "colab": {
          "base_uri": "https://localhost:8080/",
          "height": 117
        },
        "id": "oTl8l8Vq2XaP",
        "outputId": "4ca98df4-9d2e-4f87-de06-47d47fbf5059"
      },
      "outputs": [
        {
          "output_type": "execute_result",
          "data": {
            "text/plain": [
              "<PIL.Image.Image image mode=RGB size=100x100>"
            ],
            "image/png": "[encoded data removed]"
          },
          "metadata": {},
          "execution_count": 31
        }
      ],
      "source": [
        "img = image.load_img('/content/drive/MyDrive/slrdataset/isl_data_grey_split/test/1/109.png',target_size = (100,100))\n",
        "img"
      ]
    },
    {
      "cell_type": "code",
      "execution_count": null,
      "metadata": {
        "id": "2p3egxGd6Giw"
      },
      "outputs": [],
      "source": [
        "from skimage.transform import resize\n",
        "def detect(frame):\n",
        "    img=image.img_to_array(frame)\n",
        "    img = resize(img,(100,100,1))\n",
        "    img = np.expand_dims(img,axis=0)\n",
        "    pred=np.argmax(model.predict(img))\n",
        "    op=['0','1','2','3','4','5','6','7','8','9','a','b','c','d','e','f','g','h','i','j','k','l','m','n','o','p','q','r','s','t','u','v','w','x','y','z']\n",
        "    print(\"THE PREDICTED LETTER IS \",op[pred])"
      ]
    },
    {
      "cell_type": "code",
      "execution_count": null,
      "metadata": {
        "colab": {
          "base_uri": "https://localhost:8080/"
        },
        "id": "WvXXBLWxDyRQ",
        "outputId": "5f275810-15e6-4439-8f4b-7f65980b99e1"
      },
      "outputs": [
        {
          "output_type": "stream",
          "name": "stdout",
          "text": [
            "1/1 [==============================] - 0s 210ms/step\n",
            "THE PREDICTED LETTER IS  v\n"
          ]
        }
      ],
      "source": [
        "img=image.load_img('/content/drive/MyDrive/slrdataset/isl_data_grey_split/test/c/109.png',target_size=(100,100))\n",
        "detect(img)"
      ]
    },
    {
      "cell_type": "code",
      "execution_count": null,
      "metadata": {
        "colab": {
          "base_uri": "https://localhost:8080/"
        },
        "id": "U8i6hSVYUrv3",
        "outputId": "ef7cd069-f690-49ae-b4f1-445f5f50f878"
      },
      "outputs": [
        {
          "output_type": "stream",
          "name": "stdout",
          "text": [
            "1/1 [==============================] - 0s 58ms/step\n",
            "THE PREDICTED LETTER IS  v\n"
          ]
        }
      ],
      "source": [
        "img=image.load_img('/content/drive/MyDrive/slrdataset/isl_data_grey_split/test/b/138.png',target_size=(100,100))\n",
        "detect(img)"
      ]
    },
    {
      "cell_type": "code",
      "execution_count": null,
      "metadata": {
        "colab": {
          "base_uri": "https://localhost:8080/"
        },
        "id": "hm6JfXrKtH46",
        "outputId": "ba333a84-55e5-443f-e808-f36e81b00757"
      },
      "outputs": [
        {
          "output_type": "stream",
          "name": "stdout",
          "text": [
            "Drive already mounted at /content/drive; to attempt to forcibly remount, call drive.mount(\"/content/drive\", force_remount=True).\n",
            "1/1 [==============================] - 0s 92ms/step\n",
            "1/1 [==============================] - 0s 38ms/step\n",
            "1/1 [==============================] - 0s 38ms/step\n"
          ]
        }
      ],
      "source": [
        "import numpy as np\n",
        "from tensorflow.keras.models import load_model\n",
        "from tensorflow.keras.preprocessing import image\n",
        "from skimage.transform import resize\n",
        "import xml.etree.ElementTree as ET\n",
        "from google.colab import drive\n",
        "\n",
        "# Mount Google Drive to access files\n",
        "drive.mount('/content/drive')\n",
        "\n",
        "# Load the pre-trained model\n",
        "model_path = '/content/drive/MyDrive/slrdataset/slr.h5'  # Replace with your actual model path\n",
        "model = load_model(model_path)\n",
        "\n",
        "# Define a function to make predictions\n",
        "def detect(frame):\n",
        "    img = image.img_to_array(frame)\n",
        "    img = resize(img, (100, 100, 1))\n",
        "    img = np.expand_dims(img, axis=0)\n",
        "    pred = np.argmax(model.predict(img))\n",
        "    op = ['0', '1', '2', '3', '4', '5', '6', '7', '8', '9', 'a', 'b', 'c', 'd', 'e', 'f', 'g', 'h', 'i', 'j', 'k', 'l', 'm', 'n', 'o', 'p', 'q', 'r', 's', 't', 'u', 'v', 'w', 'x', 'y', 'z']\n",
        "    return op[pred]\n",
        "\n",
        "# Make predictions and store them in a list\n",
        "predictions = []\n",
        "image_paths = [\n",
        "    '/content/drive/MyDrive/slrdataset/isl_data_grey_split/test/c/11.png','/content/drive/MyDrive/slrdataset/isl_data_grey_split/test/a/113.png',\n",
        "    '/content/drive/MyDrive/slrdataset/isl_data_grey_split/test/b/108.png'\n",
        "    # Add more image paths here\n",
        "]\n",
        "\n",
        "for image_path in image_paths:\n",
        "    img = image.load_img(image_path, target_size=(100, 100))\n",
        "    prediction = detect(img)\n",
        "    predictions.append(prediction)\n",
        "\n",
        "# Define the output XML file path\n",
        "output_xml_path = '/content/drive/MyDrive/slrdatset/predictions.xml'\n",
        "\n",
        "# Create an XML structure to save the predictions\n",
        "root = ET.Element(\"predictions\")\n",
        "for idx, prediction in enumerate(predictions):\n",
        "    letter = prediction\n",
        "    prediction_elem = ET.SubElement(root, \"prediction\", index=str(idx), letter=letter)\n",
        "\n",
        "# Create an ElementTree object and write it to the XML file\n",
        "tree = ET.ElementTree(root)\n",
        "tree.write('/content/drive/MyDrive/slrdataset/predictions.xml')\n"
      ]
    }
  ],
  "metadata": {
    "colab": {
      "provenance": []
    },
    "kernelspec": {
      "display_name": "Python 3",
      "name": "python3"
    },
    "language_info": {
      "name": "python"
    }
  },
  "nbformat": 4,
  "nbformat_minor": 0
}